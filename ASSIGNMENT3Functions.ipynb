{
 "cells": [
  {
   "cell_type": "code",
   "execution_count": null,
   "id": "3f226e7b-9dfc-42e1-a76d-739516fc207f",
   "metadata": {},
   "outputs": [],
   "source": [
    "#FUNCTION ASSIGNMENT"
   ]
  },
  {
   "cell_type": "code",
   "execution_count": 6,
   "id": "4f13238e-e820-4843-b1bc-ca8f10d280d8",
   "metadata": {},
   "outputs": [
    {
     "name": "stdout",
     "output_type": "stream",
     "text": [
      "Hello, Arsh!\n",
      "Hello, Vaid!\n"
     ]
    }
   ],
   "source": [
    "# What is the difference between a function and a method in Python?\n",
    "\n",
    "#functions\n",
    "'''\n",
    "A function is defined using the def keyword and can be called independently. \n",
    "It operates on its parameters and can return a result.They can be called without any object context.\n",
    "'''\n",
    "#method\n",
    "'''\n",
    "A method is similar to a function but is associated with an object. \n",
    "It operates on the data contained within the object.\n",
    "\n",
    "key differences-\n",
    "\n",
    "Functions are global, while methods are bound to objects.\n",
    "Functions are called by their name, whereas methods require an object and are called using dot notation.'''\n",
    "#example function\n",
    "\n",
    "def greet(name):\n",
    "    return f\"Hello, {name}!\"\n",
    "\n",
    "print(greet(\"Arsh\"))  \n",
    "#exanple method\n",
    "\n",
    "class Greeter:\n",
    "    def greet(self, name):\n",
    "        return f\"Hello, {name}!\"\n",
    "\n",
    "g = Greeter()\n",
    "print(g.greet(\"Vaid\"))  \n",
    "\n"
   ]
  },
  {
   "cell_type": "code",
   "execution_count": 8,
   "id": "f35526ba-ad6f-4d78-ba3e-1219bbbc872e",
   "metadata": {},
   "outputs": [
    {
     "name": "stdout",
     "output_type": "stream",
     "text": [
      "Hello, Arsh!\n",
      "8\n",
      "arsh is 21 years old.\n",
      "Hello, Arsh!\n",
      "Hi, Arsh!\n"
     ]
    }
   ],
   "source": [
    "# Explain the concept of function arguments and parameters in Python ?\n",
    "\n",
    "'''\n",
    "Parameters: Variables listed inside the parentheses in the function definition.\n",
    "Arguments: Values passed to the function when it is called.'''\n",
    "#parameter example\n",
    "def greet(name):  # 'name' is a parameter\n",
    "    return f\"Hello, {name}!\"\n",
    "\n",
    "print(greet(\"Arsh\"))  \n",
    "\n",
    "#arguments example \n",
    "#1.Positional Arguments: Passed to the function based on their position.\n",
    "def add(a, b):\n",
    "    return a + b\n",
    "\n",
    "print(add(3, 5))  \n",
    "#2.Keyword Arguments: Passed using the name of the parameter.\n",
    "def introduce(name, age):\n",
    "    return f\"{name} is {age} years old.\"\n",
    "\n",
    "print(introduce(name=\"arsh\", age=21)) \n",
    "#3.Default Arguments: Parameters with default values. If not provided, they take the default value.\n",
    "def greet(name, greeting=\"Hello\"):\n",
    "    return f\"{greeting}, {name}!\"\n",
    "\n",
    "print(greet(\"Arsh\"))  \n",
    "print(greet(\"Arsh\", greeting=\"Hi\")) \n",
    "\n"
   ]
  },
  {
   "cell_type": "code",
   "execution_count": 4,
   "id": "b2a8384b-6527-47d9-9077-dbb678d24834",
   "metadata": {},
   "outputs": [
    {
     "name": "stdout",
     "output_type": "stream",
     "text": [
      "Hello, Arsh!\n",
      "Hello, Bob!\n",
      "Hi, Raj!\n",
      "7\n",
      "6\n",
      "22\n",
      "name: Arsh\n",
      "age: 21\n",
      "city: Panchkula\n",
      "120\n"
     ]
    }
   ],
   "source": [
    "#3.What are the different ways to define and call a function in Python?\n",
    "'''\n",
    "In Python, there are several ways to define and call a function, \n",
    "each serving different purposes depending on the use case. Here are the common methods:'''\n",
    "#1.Regular Function\n",
    "#mostly def keyword is used in python to define a functoin\n",
    "#Definition:\n",
    "def greet(name):\n",
    "    return f\"Hello, {name}!\"\n",
    "#Calling:\n",
    "print(greet(\"Arsh\"))  \n",
    "\n",
    "#2.Function with Default Arguments\n",
    "#Functions can have default values for some parameters. If no argument is provided, the default value is used.\n",
    "#Definitionn:\n",
    "def greet(name, greeting=\"Hello\"):\n",
    "    return f\"{greeting}, {name}!\"\n",
    "#Calling:\n",
    "print(greet(\"Bob\"))            \n",
    "print(greet(\"Raj\", \"Hi\"))  \n",
    "\n",
    "#3.Lambda Functions (Anonymous Functions)\n",
    "#Lambda functions are used for short, single-line functions without explicitly defining them using def.\n",
    "#Definition and Calling:\n",
    "add = lambda a, b: a + b #lambda functio is defined and called in single line\n",
    "print(add(3, 4))\n",
    "\n",
    "#4.Arbitrary Arguments (*args)\n",
    "#When you don't know how many arguments will be passed to a function, \n",
    "#you can use *args to accept a variable number of positional arguments.\n",
    "#Defination\n",
    "def add(*numbers):\n",
    "    return sum(numbers)\n",
    "# Calling \n",
    "print(add(1, 2, 3))     \n",
    "print(add(4, 5, 6, 7))\n",
    "\n",
    "#5.Arbitrary Keyword Arguments (**kwargs)\n",
    "#To pass a variable number of keyword arguments (key-value pairs), use **kwargs\n",
    "#Defination\n",
    "def print_info(**info):\n",
    "    for key, value in info.items():\n",
    "        print(f\"{key}: {value}\")\n",
    "# Calling\n",
    "print_info(name=\"Arsh\", age=21, city=\"Panchkula\")\n",
    "\n",
    "#6.Recursive Functions\n",
    "#A function that calls itself is known as a recursive function,typically used for problems like factorial or Fibonacci series.\n",
    "#Defination\n",
    "def factorial(n):\n",
    "    if n == 1:\n",
    "        return 1\n",
    "    else:\n",
    "        return n * factorial(n - 1)\n",
    "# Calling \n",
    "print(factorial(5)) \n"
   ]
  },
  {
   "cell_type": "code",
   "execution_count": 7,
   "id": "aa845e87-212b-4780-8505-ae5c46cd30b9",
   "metadata": {},
   "outputs": [
    {
     "name": "stdout",
     "output_type": "stream",
     "text": [
      "Positive\n",
      "Negative\n",
      "Zero\n"
     ]
    }
   ],
   "source": [
    "#4.What is the purpose of the `return` statement in a Python function?\n",
    "'''\n",
    "The return statement in a Python function is used to exit the function and pass the result back to the caller. \n",
    "It allows us to specify the value that should be returned when the function completes.\n",
    "Used for:\n",
    "-End the Function Execution: Stops the execution of the function and optionally returns a value.\n",
    "-Pass Results: Allows the function to output a result that can be used in the rest of the code. '''\n",
    "def check_number(num):\n",
    "    if num > 0:\n",
    "        return \"Positive\"\n",
    "    elif num < 0:\n",
    "        return \"Negative\"\n",
    "    return \"Zero\"\n",
    "\n",
    "print(check_number(10))  \n",
    "print(check_number(-5)) \n",
    "print(check_number(0))   \n"
   ]
  },
  {
   "cell_type": "code",
   "execution_count": 15,
   "id": "27710ce2-4602-43b0-9cf9-9d68c5ad01cd",
   "metadata": {},
   "outputs": [
    {
     "name": "stdout",
     "output_type": "stream",
     "text": [
      "1\n",
      "2\n",
      "3\n"
     ]
    }
   ],
   "source": [
    "#5.What are itertors in Pyhton and how are they different from iterables\n",
    "'''\n",
    "An iterator is an object representing a stream of data. \n",
    "You can get an iterator from any iterable using the iter() function. \n",
    "The iterator object implements the __next__() method, which returns the next item in the sequence.\n",
    "Main  Differences-\n",
    "\n",
    "Definition:\n",
    "Iterable: An object capable of returning its members one by one (e.g., lists, tuples, strings).\n",
    "Iterator: An object representing a stream of data from an iterable.\n",
    "\n",
    "Methods:\n",
    "Iterable: Implements the __iter__() method, which returns an iterator.\n",
    "Iterator: Implements both the __iter__() and __next__() methods. The __next__() method returns the next item or raises StopIteration when there are no more items.\n",
    "\n",
    "Usage:\n",
    "Iterable: Can be looped over with a for loop.\n",
    "Iterator: Used to fetch items from an iterable one at a time using next().\n",
    "'''\n",
    "#Example for difference-Using both iterable and iterator concepts together:\n",
    "my_tuple = (1, 2, 3)\n",
    "iterator = iter(my_tuple)\n",
    "\n",
    "while True:\n",
    "    try:\n",
    "        item = next(iterator)\n",
    "        print(item)\n",
    "    except StopIteration:\n",
    "        break"
   ]
  },
  {
   "cell_type": "code",
   "execution_count": 11,
   "id": "260b6ff9-d051-4cf4-85db-426b38b6d7ec",
   "metadata": {},
   "outputs": [
    {
     "name": "stdout",
     "output_type": "stream",
     "text": [
      "1\n",
      "2\n",
      "3\n",
      "4\n",
      "5\n"
     ]
    }
   ],
   "source": [
    "#6. Explain the concept of generators in Python and how they are defined.\n",
    "'''\n",
    "Generators in Python are a type of iterable, like lists or tuples.\n",
    "Unlike lists, however, generators do not store all their values in memory but generate values on the fly. \n",
    "This makes them much more memory efficient, especially when dealing with large datasets.\n",
    "\n",
    "Defining a Generator-\n",
    "Generators are defined using a function with one or more yield expressions. \n",
    "When called, the function returns a generator object but does not start execution immediately'''\n",
    "def count_up_to(max):\n",
    "    count = 1\n",
    "    while count <= max:\n",
    "        yield count\n",
    "        count += 1\n",
    "\n",
    "# Create a generator\n",
    "counter = count_up_to(5)\n",
    "\n",
    "# Iterate through the generator\n",
    "for num in counter:\n",
    "    print(num)\n"
   ]
  },
  {
   "cell_type": "code",
   "execution_count": 13,
   "id": "67b38fb5-d789-4908-8f43-593c3d89298f",
   "metadata": {},
   "outputs": [
    {
     "name": "stdout",
     "output_type": "stream",
     "text": [
      "0\n",
      "1\n",
      "2\n",
      "3\n",
      "4\n"
     ]
    }
   ],
   "source": [
    "#7. What are the advantages of using generators over regular functions?\n",
    "'''\n",
    "1.Memory Efficiency\n",
    "Generators do not store all values in memory at once. \n",
    "They generate values on the fly, which is ideal for processing large data sets without consuming a lot of memory.\n",
    "2. Lazy Evaluation\n",
    "Values are computed only when needed, allowing for efficient processing and potentially infinite sequences.\n",
    "3. Pipelining Operations\n",
    "Generators can be chained together to form pipelines, allowing for efficient data processing in stages.\n",
    "4. Improved Performance\n",
    "Generators often run faster than functions that return lists, because they yield items one at a time without constructing the entire list in memory.\n",
    "5.State Preservation\n",
    "Generators automatically save their state between each yield, simplifying the logic and avoiding the need for manual state management.\n",
    "'''\n",
    "#Example\n",
    "def infinite_sequence():\n",
    "    num = 0\n",
    "    while True:\n",
    "        yield num\n",
    "        num += 1\n",
    "\n",
    "# Infinite generator generationn\n",
    "gen = infinite_sequence()\n",
    "\n",
    "for i in range(5):\n",
    "    print(next(gen))\n"
   ]
  },
  {
   "cell_type": "code",
   "execution_count": 17,
   "id": "c1e51c02-2f7c-4081-a72b-9c85f3e6c8a4",
   "metadata": {},
   "outputs": [
    {
     "name": "stdout",
     "output_type": "stream",
     "text": [
      "8\n",
      "8\n",
      "[1, 4, 9, 16]\n"
     ]
    }
   ],
   "source": [
    "#8.What is a lambda function in Python and when is it typically used?\n",
    "'''\n",
    "A lambda function in Python is a small, anonymous function defined with the lambda keyword. It can take any number of arguments but can only have one expression. Lambda functions are often used for short, simple operations that are easily defined in a single line of code.\n",
    "\n",
    "Syntax\n",
    "The syntax for a lambda function \n",
    "lambda arguments: expression\n",
    "Example regular function'''\n",
    "def add(x, y):\n",
    "    return x + y\n",
    "\n",
    "print(add(5, 3))  \n",
    "#same with lambda function\n",
    "add = lambda x, y: x + y\n",
    "print(add(5, 3))  \n",
    "#we can see how lambda function reduced length of our program, hence lambda functioin is very usefull\n",
    "'''\n",
    "When to Use Lambda Functions\n",
    "\n",
    "1.Short and Simple Operations: For quick, simple operations that don’t require a full function definition.\n",
    "2.Inline Functions: When a function is only needed temporarily within another function.\n",
    "3.Functional Programming: Commonly used with functions like map(), filter(), and sorted().'''\n",
    "#using lambda function with map()\n",
    "numbers = [1, 2, 3, 4]\n",
    "squared = map(lambda x: x**2, numbers)\n",
    "print(list(squared)) \n"
   ]
  },
  {
   "cell_type": "code",
   "execution_count": 24,
   "id": "93850871-debc-4101-82fa-68e5092abbdd",
   "metadata": {},
   "outputs": [
    {
     "name": "stdout",
     "output_type": "stream",
     "text": [
      "[1, 4, 9, 16, 25]\n"
     ]
    }
   ],
   "source": [
    "#9. Explain the purpose and usage of the `map()` function in Python?\n",
    "'''\n",
    "The map() function in Python applies a given function to all items in an iterable (like a list or tuple) \n",
    "and returns a map object (which is an iterator). This is particularly useful when you need to perform \n",
    "the same operation on each element of a sequence.\n",
    "\n",
    "Main Purpose\n",
    "The primary purpose of map() is to transform each item in an iterable according to a specified function, making code more concise and readable.\n",
    "\n",
    "Syntax\n",
    "map(function, iterable, ...)\n",
    "\n",
    "function: A function that is applied to each item of the iterable.\n",
    "iterable: The sequence of items to be transformed.'''\n",
    "def square(x):\n",
    "    return x * x\n",
    "\n",
    "numbers = [1, 2, 3, 4, 5]\n",
    "squared_numbers = map(square, numbers)\n",
    "\n",
    "# Convert the map object to a list to see the results\n",
    "print(list(squared_numbers)) "
   ]
  },
  {
   "cell_type": "code",
   "execution_count": 38,
   "id": "070b008e-9d64-4d89-964b-e109ac30ec6b",
   "metadata": {},
   "outputs": [
    {
     "name": "stdout",
     "output_type": "stream",
     "text": [
      "[1, 4, 9, 16]\n",
      "[2, 4]\n",
      "24\n"
     ]
    }
   ],
   "source": [
    "#10. What is the difference between `map()`, `reduce()`, and `filter()` functions in Python?\n",
    "'''\n",
    "map(), reduce(), and filter() are all higher-order functions in Python, often used in functional programming to process data in sequences like lists. \n",
    "\n",
    "map()\n",
    "Purpose: Applies a given function to all items in an input list (or any iterable) and returns a map object (an iterator).\n",
    "Usage: When you want to transform all items in a list.\n",
    "\n",
    "filter()\n",
    "Purpose: Applies a function to all items in an input list and returns a filter object (an iterator) containing only the items for which the function returns True.\n",
    "Usage: When you want to filter items in a list based on a condition.\n",
    "\n",
    "reduce()\n",
    "Purpose: Applies a function of two arguments cumulatively to the items of a sequence, from left to right, to reduce the sequence to a single value.\n",
    "Usage: When you want to aggregate or summarize elements in a list (e.g., sum, product).'''\n",
    "# map function example\n",
    "numbers = [1, 2, 3, 4]\n",
    "squared = map(lambda x: x**2, numbers)\n",
    "print(list(squared)) \n",
    "# filter function example\n",
    "numbers = [1, 2, 3, 4, 5]\n",
    "evens = filter(lambda x: x % 2 == 0, numbers)\n",
    "print(list(evens)) \n",
    "# reduce function example\n",
    "from functools import reduce\n",
    "\n",
    "numbers = [1, 2, 3, 4]\n",
    "product = reduce(lambda x, y: x * y, numbers)\n",
    "print(product)\n",
    "\n",
    "\n",
    "#The map(), filter(), and reduce() functions each serve distinct purposes in Python.\n",
    "#map() applies a given function to each item in an iterable, transforming all the elements and returning a map object.\n",
    "#This is great for applying a consistent operation across a collection, like squaring numbers.\n",
    "\n",
    "#In contrast, filter() selectively retains elements from an iterable based on a function that returns True or False.\n",
    "#It's useful for filtering out unwanted items, such as finding all even numbers in a list.\n",
    "\n",
    "#reduce() takes things a step further by aggregating all elements in an iterable into a single value, using a function that takes two arguments.\n",
    "#This is handy for tasks like summing numbers or concatenating strings.\n",
    "\n",
    "#Each function has its unique role: transforming, filtering, and aggregating, making them versatile tools for data manipulation.\n"
   ]
  },
  {
   "cell_type": "code",
   "execution_count": null,
   "id": "796586ba-e213-4be8-9ed4-caa732ad69e1",
   "metadata": {},
   "outputs": [],
   "source": []
  }
 ],
 "metadata": {
  "kernelspec": {
   "display_name": "Python 3 (ipykernel)",
   "language": "python",
   "name": "python3"
  },
  "language_info": {
   "codemirror_mode": {
    "name": "ipython",
    "version": 3
   },
   "file_extension": ".py",
   "mimetype": "text/x-python",
   "name": "python",
   "nbconvert_exporter": "python",
   "pygments_lexer": "ipython3",
   "version": "3.12.4"
  }
 },
 "nbformat": 4,
 "nbformat_minor": 5
}
